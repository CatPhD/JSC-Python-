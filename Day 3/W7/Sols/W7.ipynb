{
 "cells": [
  {
   "cell_type": "code",
   "execution_count": 21,
   "metadata": {},
   "outputs": [
    {
     "name": "stdout",
     "output_type": "stream",
     "text": [
      "Scores:\n",
      "12\n",
      "34\n",
      "56\n",
      "72\n",
      "78\n",
      "88\n",
      "89\n",
      "100\n",
      "Total: 529\n",
      "Average: 66.125\n"
     ]
    }
   ],
   "source": [
    "scores = [72,56,89,34,100,78,12,88]\n",
    "scores.sort()\n",
    "\n",
    "print('Scores:')\n",
    "for i in scores:\n",
    "    print(i)\n",
    "\n",
    "total = sum(scores)\n",
    "average = total/len(scores)\n",
    "print('Total:',total)\n",
    "print('Average:',average)"
   ]
  },
  {
   "cell_type": "code",
   "execution_count": 32,
   "metadata": {},
   "outputs": [
    {
     "name": "stdout",
     "output_type": "stream",
     "text": [
      "[4, -1, 5, 8, 9, 3, 4]\n",
      "Second largest number: 8\n"
     ]
    }
   ],
   "source": [
    "def second(list):\n",
    "    list.sort()\n",
    "    return(list[len(list)-2])\n",
    "\n",
    "numbers = [4,-1,5,8,9,3,4]\n",
    "print(numbers)\n",
    "print('Second largest number:', second(numbers))"
   ]
  },
  {
   "cell_type": "code",
   "execution_count": 45,
   "metadata": {},
   "outputs": [
    {
     "name": "stdout",
     "output_type": "stream",
     "text": [
      "출생년도: 38\n",
      "당신은 개띠 입니다\n"
     ]
    }
   ],
   "source": [
    "zodiacs = ['쥐','소','범','토끼','용','뱀','말','양','원숭이','닭','개','돼지']\n",
    "year = int(input('출생년도: '))\n",
    "print('당신은 ',zodiacs[(year-1900)%12],'띠 입니다', sep='')"
   ]
  },
  {
   "cell_type": "code",
   "execution_count": 2,
   "metadata": {},
   "outputs": [
    {
     "name": "stdout",
     "output_type": "stream",
     "text": [
      "Enter a password:34\n",
      "Wrong password\n",
      "Enter a password:34\n",
      "Wrong password\n",
      "Enter a password:34\n",
      "Wrong password\n",
      "Alert! Alert! Intruder!\n"
     ]
    }
   ],
   "source": [
    "password = ['abc123','2017','!@#$']\n",
    "doorOpen = False\n",
    "attempt = 0\n",
    "\n",
    "while doorOpen == False and attempt < 3:\n",
    "    inputs = input('Enter a password:')\n",
    "    attempt = attempt + 1\n",
    "    if inputs in password:\n",
    "        print('Door opened!')\n",
    "        doorOpen = True\n",
    "    else: \n",
    "        print('Wrong password')\n",
    "        \n",
    "if attempt == 3:\n",
    "    print('Alert! Alert! Intruder!')"
   ]
  },
  {
   "cell_type": "code",
   "execution_count": 41,
   "metadata": {},
   "outputs": [
    {
     "name": "stdout",
     "output_type": "stream",
     "text": [
      "Data:\n",
      "     75.00     22.00     90.00     54.00\n",
      "\n",
      "     32.00     97.00     60.00     87.00\n",
      "\n",
      "Average: 64.62\n",
      "\n",
      "Data:\n",
      "     10.38    -42.62     25.38    -10.62\n",
      "\n",
      "    -32.62     32.38     -4.62     22.38\n",
      "\n",
      "0.0\n"
     ]
    }
   ],
   "source": [
    "def display(table):\n",
    "    print('Data:')\n",
    "    for i in data:\n",
    "        for j in i:\n",
    "            print('{:10.2f}'.format(j), end=\"\")\n",
    "        print('\\n')\n",
    "\n",
    "def getAverage(table):\n",
    "    total = 0\n",
    "    count = 0\n",
    "    for i in table:\n",
    "        for j in i:\n",
    "            total = total + j  # same as \"total += j\"\n",
    "            count = count + 1  # same as \"total += 1\"\n",
    "    \n",
    "    avg = total / count\n",
    "    return avg\n",
    "    \n",
    "def normalized(data, avg):\n",
    "    i = 0\n",
    "    j = 0\n",
    "    while i < len(data):\n",
    "        while j < len(data[i]):\n",
    "            data[i][j] = data[i][j] - avg\n",
    "            j = j + 1\n",
    "        i = i + 1\n",
    "        j = 0\n",
    "    return data\n",
    "    \n",
    "\n",
    "\n",
    "\n",
    "\n",
    "data = [[75, 22, 90, 54],[32, 97, 60, 87]]\n",
    "display(data)\n",
    "avg = getAverage(data)\n",
    "print(\"Average: {:.2f}\\n\".format(avg))\n",
    "\n",
    "normalized(data, avg)\n",
    "display(data)\n",
    "print(getAverage(data))"
   ]
  },
  {
   "cell_type": "code",
   "execution_count": null,
   "metadata": {},
   "outputs": [],
   "source": []
  }
 ],
 "metadata": {
  "kernelspec": {
   "display_name": "Python 3",
   "language": "python",
   "name": "python3"
  },
  "language_info": {
   "codemirror_mode": {
    "name": "ipython",
    "version": 3
   },
   "file_extension": ".py",
   "mimetype": "text/x-python",
   "name": "python",
   "nbconvert_exporter": "python",
   "pygments_lexer": "ipython3",
   "version": "3.6.3"
  }
 },
 "nbformat": 4,
 "nbformat_minor": 2
}
