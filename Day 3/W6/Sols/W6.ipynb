{
 "cells": [
  {
   "cell_type": "code",
   "execution_count": 32,
   "metadata": {},
   "outputs": [
    {
     "name": "stdout",
     "output_type": "stream",
     "text": [
      "[4, 2, 5, 7, 7, 10, 1, 7, 2, 8]\n",
      "Total: 53\n"
     ]
    }
   ],
   "source": [
    "numbers = [4,2,5,7,7,10,1,7,2,8]\n",
    "def getSum(data):\n",
    "    i=0\n",
    "    total = 0\n",
    "    while i < len(data):\n",
    "        total = total + numbers[i]\n",
    "        i = i+1\n",
    "    return total\n",
    "\n",
    "print(numbers)\n",
    "print('Total:',getSum(numbers))\n",
    "    "
   ]
  },
  {
   "cell_type": "code",
   "execution_count": 3,
   "metadata": {},
   "outputs": [
    {
     "name": "stdout",
     "output_type": "stream",
     "text": [
      "Enter a number(quit: negative number):4\n",
      "[4]\n",
      "Enter a number(quit: negative number):4\n",
      "already exists\n",
      "[4]\n",
      "Enter a number(quit: negative number):4\n",
      "already exists\n",
      "[4]\n",
      "Enter a number(quit: negative number):4\n",
      "already exists\n",
      "[4]\n",
      "Enter a number(quit: negative number):3\n",
      "[4, 3]\n",
      "Enter a number(quit: negative number):4\n",
      "already exists\n",
      "[4, 3]\n",
      "Enter a number(quit: negative number):4\n",
      "already exists\n",
      "[4, 3]\n",
      "Enter a number(quit: negative number):4\n",
      "already exists\n",
      "[4, 3]\n",
      "Enter a number(quit: negative number):44\n",
      "[4, 3, 44]\n",
      "Enter a number(quit: negative number):1010\n",
      "[4, 3, 44, 1010]\n",
      "Enter a number(quit: negative number):-3\n"
     ]
    }
   ],
   "source": [
    "numberList = []\n",
    "number = int(input('Enter a number(quit: negative number):'))\n",
    "while number >= 0:\n",
    "    if number in numberList:\n",
    "        print('already exists')\n",
    "    else:\n",
    "        numberList.append(number)\n",
    "    print(numberList)\n",
    "    number = int(input('Enter a number(quit: negative number):'))\n",
    "    "
   ]
  },
  {
   "cell_type": "code",
   "execution_count": 9,
   "metadata": {},
   "outputs": [
    {
     "name": "stdout",
     "output_type": "stream",
     "text": [
      "Negative data is [-8, -2, -1]\n"
     ]
    }
   ],
   "source": [
    "dataList = [4,3,-8,1,0,-2,10,5,7,-1]\n",
    "negativeDataList = []\n",
    "i =0\n",
    "while i < len(dataList):\n",
    "    if dataList[i] < 0:\n",
    "        negativeDataList.append(dataList[i])\n",
    "    i = i + 1\n",
    "print('Negative data is', negativeDataList)"
   ]
  },
  {
   "cell_type": "code",
   "execution_count": 11,
   "metadata": {},
   "outputs": [
    {
     "name": "stdout",
     "output_type": "stream",
     "text": [
      "Old Data: [4, 3, -8, 1, 0, -2, 10, 5, 7, -1]\n",
      "New Data: [-3, 4, 5, 6, 7, 9, 8, 3, 12]\n",
      "Duplicated Data: [4, 3, 5, 7]\n"
     ]
    }
   ],
   "source": [
    "OldDataList = [4,3,-8,1,0,-2,10,5,7,-1]\n",
    "NewDataList = [-3,4,5,6,7,9,8,3,12]\n",
    "DuplicatedDataList = []\n",
    "\n",
    "print('Old Data:',OldDataList)\n",
    "print('New Data:',NewDataList)\n",
    "\n",
    "i=0\n",
    "while i < len(OldDataList):\n",
    "    if OldDataList[i] in NewDataList:\n",
    "        DuplicatedDataList.append(OldDataList[i])\n",
    "    i = i + 1\n",
    "    \n",
    "print('Duplicated Data:',DuplicatedDataList)"
   ]
  },
  {
   "cell_type": "code",
   "execution_count": null,
   "metadata": {},
   "outputs": [],
   "source": []
  }
 ],
 "metadata": {
  "kernelspec": {
   "display_name": "Python 3",
   "language": "python",
   "name": "python3"
  },
  "language_info": {
   "codemirror_mode": {
    "name": "ipython",
    "version": 3
   },
   "file_extension": ".py",
   "mimetype": "text/x-python",
   "name": "python",
   "nbconvert_exporter": "python",
   "pygments_lexer": "ipython3",
   "version": "3.6.3"
  }
 },
 "nbformat": 4,
 "nbformat_minor": 2
}
