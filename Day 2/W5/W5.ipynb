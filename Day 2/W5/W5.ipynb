{
 "cells": [
  {
   "cell_type": "code",
   "execution_count": 4,
   "metadata": {},
   "outputs": [
    {
     "data": {
      "text/plain": [
       "10.63014581273465"
      ]
     },
     "execution_count": 4,
     "metadata": {},
     "output_type": "execute_result"
    }
   ],
   "source": [
    "import math\n",
    "def distance(x1,y1,x2,y2):\n",
    "    return math.sqrt((x1-x2)**2 + (y1-y2)**2)\n",
    "\n",
    "distance(2,1,10,8)"
   ]
  },
  {
   "cell_type": "code",
   "execution_count": 7,
   "metadata": {},
   "outputs": [
    {
     "name": "stdout",
     "output_type": "stream",
     "text": [
      "The Biggest: 10\n"
     ]
    }
   ],
   "source": [
    "def max3(n1,n2,n3):\n",
    "    if n1 >= n2:\n",
    "        if n1 >= n3:\n",
    "            return n1\n",
    "        else:\n",
    "            return n3\n",
    "    elif n2 > n1:\n",
    "        if n2 >= n3:\n",
    "            return n2\n",
    "        else:\n",
    "            return n3\n",
    "    \n",
    "print('The Biggest:',max3(4,-9,10))\n",
    "    "
   ]
  },
  {
   "cell_type": "code",
   "execution_count": 18,
   "metadata": {},
   "outputs": [
    {
     "name": "stdout",
     "output_type": "stream",
     "text": [
      "Enter radius of a cone:3\n",
      "Enter height of a cone:3\n",
      "The volume is 28.274333882308138\n"
     ]
    }
   ],
   "source": [
    "import math\n",
    "def calcConeVolume(radius,height):\n",
    "    return math.pi*radius**2*height/3\n",
    "\n",
    "radius = float(input('Enter radius of a cone:'))\n",
    "height = float(input('Enter height of a cone:'))\n",
    "print('The volume is', calcConeVolume(radius,height))"
   ]
  },
  {
   "cell_type": "code",
   "execution_count": 20,
   "metadata": {},
   "outputs": [],
   "source": [
    "def weeklySalary(hoursWorked,hourlyRate):\n",
    "    if hoursWorked > 40:\n",
    "        total = 40*hourlyRate + (hoursWorked-40)*hourlyRate*1.5\n",
    "    else:\n",
    "        total = hoursWorked*hourlyRate\n",
    "    return format(total,'.0f')"
   ]
  },
  {
   "cell_type": "code",
   "execution_count": null,
   "metadata": {},
   "outputs": [
    {
     "name": "stdout",
     "output_type": "stream",
     "text": [
      "Take a guess: 30\n",
      "Too small\n",
      "Take a guess: 40\n",
      "Too small\n"
     ]
    }
   ],
   "source": [
    "import random\n",
    "def inputUserGuess():\n",
    "    userGuess = int(input('Take a guess: '))\n",
    "    while userGuess<0 or userGuess>100:\n",
    "        print('Wrong guess')\n",
    "        userGuess = int(input('Take a guess: '))\n",
    "    return userGuess\n",
    "\n",
    "computerGuess = random.randint(0,100)\n",
    "userGuess = inputUserGuess()\n",
    "\n",
    "while userGuess != computerGuess:\n",
    "    if userGuess<computerGuess:\n",
    "        print('Too small')\n",
    "    else:\n",
    "        print('Too big')\n",
    "    userGuess = inputUserGuess()\n",
    "\n",
    "print('You got it!')"
   ]
  }
 ],
 "metadata": {
  "kernelspec": {
   "display_name": "Python 3",
   "language": "python",
   "name": "python3"
  },
  "language_info": {
   "codemirror_mode": {
    "name": "ipython",
    "version": 3
   },
   "file_extension": ".py",
   "mimetype": "text/x-python",
   "name": "python",
   "nbconvert_exporter": "python",
   "pygments_lexer": "ipython3",
   "version": "3.6.3"
  }
 },
 "nbformat": 4,
 "nbformat_minor": 2
}
