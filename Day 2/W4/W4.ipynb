{
 "cells": [
  {
   "cell_type": "code",
   "execution_count": 2,
   "metadata": {},
   "outputs": [
    {
     "name": "stdout",
     "output_type": "stream",
     "text": [
      "나이를 입력하세요: 3\n",
      "Child\n"
     ]
    }
   ],
   "source": [
    "age = float(input('나이를 입력하세요: '))\n",
    "if age <= 2:\n",
    "    print('Infant')\n",
    "elif age <=12:\n",
    "    print('Child')\n",
    "elif age <=19:\n",
    "    print('Teenager')\n",
    "else:\n",
    "    print('Adult')"
   ]
  },
  {
   "cell_type": "code",
   "execution_count": 11,
   "metadata": {},
   "outputs": [
    {
     "name": "stdout",
     "output_type": "stream",
     "text": [
      "5050\n"
     ]
    }
   ],
   "source": [
    "total =0\n",
    "i = 0\n",
    "\n",
    "while i <= 100:\n",
    "    total=total+i\n",
    "    i=i+1\n",
    "    \n",
    "print (total)"
   ]
  },
  {
   "cell_type": "code",
   "execution_count": 27,
   "metadata": {},
   "outputs": [
    {
     "name": "stdout",
     "output_type": "stream",
     "text": [
      "X:3\n",
      "Y:3\n",
      "Quadrant 1\n"
     ]
    }
   ],
   "source": [
    "X = float(input('X:'))\n",
    "Y = float(input('Y:'))\n",
    "\n",
    "if X>0:\n",
    "    if Y>0:\n",
    "        print('Quadrant 1')\n",
    "    elif Y<0:\n",
    "        print('Quadrant 4')\n",
    "elif X<0:\n",
    "    if Y>0:\n",
    "        print('Quadrant 3')\n",
    "    elif Y<0:\n",
    "        print('Quadrant 2')"
   ]
  },
  {
   "cell_type": "code",
   "execution_count": 41,
   "metadata": {},
   "outputs": [
    {
     "name": "stdout",
     "output_type": "stream",
     "text": [
      "Enter you weight(kg): 80\n",
      "Enter your height(cm): 180\n",
      "Your BMI value: 24.69\n",
      "Normal\n"
     ]
    }
   ],
   "source": [
    "weight = float(input('Enter you weight(kg): '))\n",
    "height = float(input('Enter your height(cm): '))\n",
    "BMI = weight/((height/100)**2)\n",
    "print('Your BMI value:', format(BMI,'.2f'))\n",
    "\n",
    "if BMI<18.5:\n",
    "    print ('underweight')\n",
    "elif BMI<=25:\n",
    "    print ('Normal')\n",
    "elif BMI>25:\n",
    "    print ('Overweight')"
   ]
  },
  {
   "cell_type": "code",
   "execution_count": 42,
   "metadata": {},
   "outputs": [],
   "source": [
    "n = 10\n",
    "\n",
    "while n>1:\n",
    "    if n%2==0:\n",
    "        n = n/2\n",
    "    else:\n",
    "        n = n-2"
   ]
  },
  {
   "cell_type": "code",
   "execution_count": 54,
   "metadata": {},
   "outputs": [
    {
     "name": "stdout",
     "output_type": "stream",
     "text": [
      "It will be 9.8 % after 101 years\n"
     ]
    }
   ],
   "source": [
    "n = 100\n",
    "i = 0\n",
    "while n>10:\n",
    "    i = i+1\n",
    "    n = n*((1/2)**(1/30.17))\n",
    "print('It will be',format(n,'.1f'),'% after',i,'years')\n",
    "    \n",
    "    "
   ]
  }
 ],
 "metadata": {
  "kernelspec": {
   "display_name": "Python 3",
   "language": "python",
   "name": "python3"
  },
  "language_info": {
   "codemirror_mode": {
    "name": "ipython",
    "version": 3
   },
   "file_extension": ".py",
   "mimetype": "text/x-python",
   "name": "python",
   "nbconvert_exporter": "python",
   "pygments_lexer": "ipython3",
   "version": "3.6.3"
  }
 },
 "nbformat": 4,
 "nbformat_minor": 2
}
