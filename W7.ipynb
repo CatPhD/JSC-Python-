{
 "cells": [
  {
   "cell_type": "code",
   "execution_count": 21,
   "metadata": {},
   "outputs": [
    {
     "name": "stdout",
     "output_type": "stream",
     "text": [
      "Scores:\n",
      "12\n",
      "34\n",
      "56\n",
      "72\n",
      "78\n",
      "88\n",
      "89\n",
      "100\n",
      "Total: 529\n",
      "Average: 66.125\n"
     ]
    }
   ],
   "source": [
    "scores = [72,56,89,34,100,78,12,88]\n",
    "scores.sort()\n",
    "\n",
    "print('Scores:')\n",
    "for i in scores:\n",
    "    print(i)\n",
    "\n",
    "total = sum(scores)\n",
    "average = total/len(scores)\n",
    "print('Total:',total)\n",
    "print('Average:',average)"
   ]
  },
  {
   "cell_type": "code",
   "execution_count": 32,
   "metadata": {},
   "outputs": [
    {
     "name": "stdout",
     "output_type": "stream",
     "text": [
      "[4, -1, 5, 8, 9, 3, 4]\n",
      "Second largest number: 8\n"
     ]
    }
   ],
   "source": [
    "def second(list):\n",
    "    list.sort()\n",
    "    return(list[len(list)-2])\n",
    "\n",
    "numbers = [4,-1,5,8,9,3,4]\n",
    "print(numbers)\n",
    "print('Second largest number:', second(numbers))"
   ]
  },
  {
   "cell_type": "code",
   "execution_count": 45,
   "metadata": {},
   "outputs": [
    {
     "name": "stdout",
     "output_type": "stream",
     "text": [
      "출생년도: 38\n",
      "당신은 개띠 입니다\n"
     ]
    }
   ],
   "source": [
    "zodiacs = ['쥐','소','범','토끼','용','뱀','말','양','원숭이','닭','개','돼지']\n",
    "year = int(input('출생년도: '))\n",
    "print('당신은 ',zodiacs[(year-1900)%12],'띠 입니다', sep='')"
   ]
  },
  {
   "cell_type": "code",
   "execution_count": 2,
   "metadata": {},
   "outputs": [
    {
     "name": "stdout",
     "output_type": "stream",
     "text": [
      "Enter a password:34\n",
      "Wrong password\n",
      "Enter a password:34\n",
      "Wrong password\n",
      "Enter a password:34\n",
      "Wrong password\n",
      "Alert! Alert! Intruder!\n"
     ]
    }
   ],
   "source": [
    "password = ['abc123','2017','!@#$']\n",
    "doorOpen = False\n",
    "attempt = 0\n",
    "\n",
    "while doorOpen == False and attempt < 3:\n",
    "    inputs = input('Enter a password:')\n",
    "    attempt = attempt + 1\n",
    "    if inputs in password:\n",
    "        print('Door opened!')\n",
    "        doorOpen = True\n",
    "    else: \n",
    "        print('Wrong password')\n",
    "        \n",
    "if attempt == 3:\n",
    "    print('Alert! Alert! Intruder!')"
   ]
  },
  {
   "cell_type": "code",
   "execution_count": 12,
   "metadata": {},
   "outputs": [
    {
     "name": "stdout",
     "output_type": "stream",
     "text": [
      "Data:\n"
     ]
    },
    {
     "ename": "NameError",
     "evalue": "name 'displayTable' is not defined",
     "output_type": "error",
     "traceback": [
      "\u001b[1;31m---------------------------------------------------------------------------\u001b[0m",
      "\u001b[1;31mNameError\u001b[0m                                 Traceback (most recent call last)",
      "\u001b[1;32m<ipython-input-12-a21195be0ea5>\u001b[0m in \u001b[0;36m<module>\u001b[1;34m()\u001b[0m\n\u001b[0;32m      1\u001b[0m \u001b[0mAB\u001b[0m \u001b[1;33m=\u001b[0m \u001b[1;33m[\u001b[0m\u001b[1;33m[\u001b[0m\u001b[1;36m75\u001b[0m\u001b[1;33m,\u001b[0m \u001b[1;36m22\u001b[0m\u001b[1;33m,\u001b[0m \u001b[1;36m90\u001b[0m\u001b[1;33m,\u001b[0m \u001b[1;36m54\u001b[0m\u001b[1;33m]\u001b[0m\u001b[1;33m,\u001b[0m\u001b[1;33m[\u001b[0m\u001b[1;36m32\u001b[0m\u001b[1;33m,\u001b[0m \u001b[1;36m97\u001b[0m\u001b[1;33m,\u001b[0m \u001b[1;36m60\u001b[0m\u001b[1;33m,\u001b[0m \u001b[1;36m87\u001b[0m\u001b[1;33m]\u001b[0m\u001b[1;33m]\u001b[0m\u001b[1;33m\u001b[0m\u001b[0m\n\u001b[0;32m      2\u001b[0m \u001b[0mprint\u001b[0m\u001b[1;33m(\u001b[0m\u001b[1;34m'Data:'\u001b[0m\u001b[1;33m)\u001b[0m\u001b[1;33m\u001b[0m\u001b[0m\n\u001b[1;32m----> 3\u001b[1;33m \u001b[0mdisplayTable\u001b[0m\u001b[1;33m(\u001b[0m\u001b[0mAB\u001b[0m\u001b[1;33m)\u001b[0m\u001b[1;33m\u001b[0m\u001b[0m\n\u001b[0m",
      "\u001b[1;31mNameError\u001b[0m: name 'displayTable' is not defined"
     ]
    }
   ],
   "source": [
    "data = [[75, 22, 90, 54],[32, 97, 60, 87]]\n",
    "def normalize(table,avg):\n",
    "    i=0\n",
    "    j=0\n",
    "    \n",
    "\n",
    "def display(data)\n",
    "\n",
    "\n",
    "\n",
    "\n",
    "\n",
    "\n",
    "display(data)\n",
    "avg = getAverage(data)\n",
    "print"
   ]
  },
  {
   "cell_type": "code",
   "execution_count": null,
   "metadata": {},
   "outputs": [],
   "source": []
  }
 ],
 "metadata": {
  "kernelspec": {
   "display_name": "Python 3",
   "language": "python",
   "name": "python3"
  },
  "language_info": {
   "codemirror_mode": {
    "name": "ipython",
    "version": 3
   },
   "file_extension": ".py",
   "mimetype": "text/x-python",
   "name": "python",
   "nbconvert_exporter": "python",
   "pygments_lexer": "ipython3",
   "version": "3.6.3"
  }
 },
 "nbformat": 4,
 "nbformat_minor": 2
}
