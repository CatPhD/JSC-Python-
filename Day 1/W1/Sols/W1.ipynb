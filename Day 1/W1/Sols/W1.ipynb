{
 "cells": [
  {
   "cell_type": "code",
   "execution_count": 1,
   "metadata": {},
   "outputs": [
    {
     "name": "stdout",
     "output_type": "stream",
     "text": [
      "1,000,000 KRW => USD 879.66\n"
     ]
    }
   ],
   "source": [
    "print(format(1000000,','),'KRW => USD', format(1000000/1136.80, '.2f'))  "
   ]
  },
  {
   "cell_type": "code",
   "execution_count": 2,
   "metadata": {},
   "outputs": [
    {
     "name": "stdout",
     "output_type": "stream",
     "text": [
      "It's a good day.\n",
      "Let's go to the \"Python Park\".\n"
     ]
    }
   ],
   "source": [
    "print('It\\'s a good day.\\nLet\\'s go to the \\\"Python Park\\\".')"
   ]
  },
  {
   "cell_type": "code",
   "execution_count": 9,
   "metadata": {
    "scrolled": true
   },
   "outputs": [
    {
     "name": "stdout",
     "output_type": "stream",
     "text": [
      "90 kg => 198.4 pounds\n",
      "180 cm => 5.9 feet\n",
      "36.5 C => 115.7 F\n"
     ]
    }
   ],
   "source": [
    "print('{} kg => {:.1f} pounds'.format(90, 90/0.45359))\n",
    "print('{} cm => {:.1f} feet'.format(180, 180/30.48))\n",
    "print('{} C => {:.1f} F'.format(36.5, 46.5*9/5+32))"
   ]
  },
  {
   "cell_type": "code",
   "execution_count": 21,
   "metadata": {},
   "outputs": [
    {
     "name": "stdout",
     "output_type": "stream",
     "text": [
      "  R  |   Area   \n",
      "    1|       3.1\n",
      "    5|      78.5\n",
      "   10|     314.2\n"
     ]
    }
   ],
   "source": [
    "print(format('R', '^5'), '|', format('Area', '^10'),sep='')\n",
    "print(format(1,'>5'), '|', format(1**2*3.141592, '>10.1f'),sep='')\n",
    "print(format(5,'>5'), '|', format(5**2*3.141592,'>10.1f'),sep='')\n",
    "print(format(10,'>5'), '|', format(10**2*3.141592, '>10.1f'),sep='')"
   ]
  }
 ],
 "metadata": {
  "kernelspec": {
   "display_name": "Python 3",
   "language": "python",
   "name": "python3"
  },
  "language_info": {
   "codemirror_mode": {
    "name": "ipython",
    "version": 3
   },
   "file_extension": ".py",
   "mimetype": "text/x-python",
   "name": "python",
   "nbconvert_exporter": "python",
   "pygments_lexer": "ipython3",
   "version": "3.6.3"
  }
 },
 "nbformat": 4,
 "nbformat_minor": 2
}
