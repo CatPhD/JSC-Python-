{
 "cells": [
  {
   "cell_type": "code",
   "execution_count": 16,
   "metadata": {},
   "outputs": [
    {
     "name": "stdout",
     "output_type": "stream",
     "text": [
      "Enter an integer:3\n"
     ]
    },
    {
     "data": {
      "text/plain": [
       "True"
      ]
     },
     "execution_count": 16,
     "metadata": {},
     "output_type": "execute_result"
    }
   ],
   "source": [
    "Int = int(input('Enter an integer: '))\n",
    "Int in (-2,-1,1,2,3)"
   ]
  },
  {
   "cell_type": "code",
   "execution_count": 19,
   "metadata": {},
   "outputs": [
    {
     "name": "stdout",
     "output_type": "stream",
     "text": [
      "Enter P:T\n",
      "Enter Q:F\n",
      "P XOR Q: False\n"
     ]
    }
   ],
   "source": [
    "P = input('Enter P: ') == 'T'\n",
    "Q = input('Enter Q: ') == 'F'\n",
    "R = not(P and Q) and (P or Q)\n",
    "print('P XOR Q:', R)"
   ]
  },
  {
   "cell_type": "code",
   "execution_count": 21,
   "metadata": {},
   "outputs": [
    {
     "name": "stdout",
     "output_type": "stream",
     "text": [
      "Enter a letter grade:f\n"
     ]
    },
    {
     "data": {
      "text/plain": [
       "True"
      ]
     },
     "execution_count": 21,
     "metadata": {},
     "output_type": "execute_result"
    }
   ],
   "source": [
    "grade = input('Enter a letter grade: ')\n",
    "grade in ('A','B','C','D','F','a','b','c','d','f')"
   ]
  },
  {
   "cell_type": "code",
   "execution_count": 34,
   "metadata": {},
   "outputs": [
    {
     "name": "stdout",
     "output_type": "stream",
     "text": [
      "Enter a:19\n",
      "Enter b:19\n",
      "Enter c:19\n",
      "Is this a triangle?: True\n"
     ]
    }
   ],
   "source": [
    "a = float(input('Enter a: '))\n",
    "b = float(input('Enter b: '))\n",
    "c = float(input('Enter c: '))\n",
    "triangle = (\n",
    "    (a < b + c) & (a >= c) & (a >= b)) or (\n",
    "    (b < a + c) & (b >= c) & (b >= a)) or (\n",
    "    (c < a + b) & (c >= b) & (c >= a))\n",
    "print('Is this a triangle?: ',triangle)"
   ]
  },
  {
   "cell_type": "code",
   "execution_count": 38,
   "metadata": {},
   "outputs": [
    {
     "name": "stdout",
     "output_type": "stream",
     "text": [
      "소득분위 입력(1~10분위): 3\n",
      "현재 누적학기: 4\n",
      "학기 평점: 3\n",
      "장학금 대상자: False\n"
     ]
    }
   ],
   "source": [
    "소득분위 = float(input('소득분위 입력(1~10분위): '))\n",
    "누적학기 = float(input('현재 누적학기: '))\n",
    "학기_평점 = float(input('학기 평점: '))\n",
    "장학금 = (\n",
    "    (소득분위 <= 3) & (누적학기 < 8) & (학기_평점 >= 4)) or (\n",
    "    (소득분위 == 1) & (학기_평점 >= 3.7))\n",
    "     \n",
    "print('장학금 대상자:', 장학금)\n"
   ]
  }
 ],
 "metadata": {
  "kernelspec": {
   "display_name": "Python 3",
   "language": "python",
   "name": "python3"
  },
  "language_info": {
   "codemirror_mode": {
    "name": "ipython",
    "version": 3
   },
   "file_extension": ".py",
   "mimetype": "text/x-python",
   "name": "python",
   "nbconvert_exporter": "python",
   "pygments_lexer": "ipython3",
   "version": "3.6.3"
  }
 },
 "nbformat": 4,
 "nbformat_minor": 2
}
