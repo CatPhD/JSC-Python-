{
 "cells": [
  {
   "cell_type": "code",
   "execution_count": 2,
   "metadata": {},
   "outputs": [
    {
     "name": "stdout",
     "output_type": "stream",
     "text": [
      "Enter weight(kg): 10\n",
      "Enter height(m): 1\n",
      "Your BMI:  10.0\n"
     ]
    }
   ],
   "source": [
    "weight = float(input('Enter weight(kg): '))\n",
    "height = float(input('Enter height(m): '))\n",
    "bmi = weight / (height ** 2)\n",
    "print('Your BMI: ', format(bmi,'.1f'))"
   ]
  },
  {
   "cell_type": "code",
   "execution_count": 3,
   "metadata": {},
   "outputs": [
    {
     "name": "stdout",
     "output_type": "stream",
     "text": [
      "76 111 118 101\n"
     ]
    }
   ],
   "source": [
    "print(ord('L'),ord('o'),ord('v'),ord('e'))"
   ]
  },
  {
   "cell_type": "code",
   "execution_count": 6,
   "metadata": {},
   "outputs": [
    {
     "name": "stdout",
     "output_type": "stream",
     "text": [
      "Enter red value: 2\n",
      "Enter green value: 2\n",
      "Enter blue value: 2\n",
      "RGB code is 02 02 02\n"
     ]
    }
   ],
   "source": [
    "R = format(int(input('Enter red value: ')),'02X')\n",
    "G = format(int(input('Enter green value: ')),'02X')\n",
    "B = format(int(input('Enter blue value: ')),'02X')\n",
    "print('RGB code is', R, G, B)"
   ]
  },
  {
   "cell_type": "code",
   "execution_count": 15,
   "metadata": {},
   "outputs": [
    {
     "name": "stdout",
     "output_type": "stream",
     "text": [
      "input a letter: B\n",
      "b\n"
     ]
    }
   ],
   "source": [
    "letter = input('input a letter: ')\n",
    "print(chr(ord(letter)+32))"
   ]
  },
  {
   "cell_type": "code",
   "execution_count": 5,
   "metadata": {},
   "outputs": [
    {
     "name": "stdout",
     "output_type": "stream",
     "text": [
      "What is your name?seo\n",
      "seo,what is your age?20\n",
      "seo is 20\n",
      "Next year, seo will be 21\n"
     ]
    }
   ],
   "source": [
    "name = input('What is your name?')\n",
    "age = int(input(name + ',what is your age?'))\n",
    "print(name,'is',age)\n",
    "print('Next year,',name,'will be',age+1)"
   ]
  },
  {
   "cell_type": "code",
   "execution_count": 1,
   "metadata": {},
   "outputs": [
    {
     "name": "stdout",
     "output_type": "stream",
     "text": [
      "Enter weight(kg): 30\n",
      "Enter height(m): 1\n",
      "Your BMI:  30.0\n"
     ]
    }
   ],
   "source": [
    "weight = float(input('Enter weight(kg): '))\n",
    "height = float(input('Enter height(m): '))\n",
    "bmi = weight / (height ** 2)\n",
    "print('Your BMI: ', format(bmi,'.1f'))"
   ]
  },
  {
   "cell_type": "code",
   "execution_count": 28,
   "metadata": {},
   "outputs": [
    {
     "name": "stdout",
     "output_type": "stream",
     "text": [
      "Enter the first course grade:4\n",
      "Enter the first course credit:3\n",
      "Enter the second course grade:4.3\n",
      "Enter the second course credit:3\n",
      "Enter the third course grade:4\n",
      "Enter the third course credit:3\n",
      "Your GPA is 4.1\n"
     ]
    }
   ],
   "source": [
    "FCG = float(input('Enter the first course grade:'))\n",
    "FCC = float(input('Enter the first course credit:'))\n",
    "SCG = float(input('Enter the second course grade:'))\n",
    "SCC = float(input('Enter the second course credit:'))\n",
    "TCG = float(input('Enter the third course grade:'))\n",
    "TCC = float(input('Enter the third course credit:'))\n",
    "print('Your GPA is', \n",
    "      (FCG*FCC+SCG*SCC+TCG*TCC) / \n",
    "      (FCC+SCC+TCC))"
   ]
  },
  {
   "cell_type": "code",
   "execution_count": null,
   "metadata": {},
   "outputs": [],
   "source": []
  }
 ],
 "metadata": {
  "kernelspec": {
   "display_name": "Python 3",
   "language": "python",
   "name": "python3"
  },
  "language_info": {
   "codemirror_mode": {
    "name": "ipython",
    "version": 3
   },
   "file_extension": ".py",
   "mimetype": "text/x-python",
   "name": "python",
   "nbconvert_exporter": "python",
   "pygments_lexer": "ipython3",
   "version": "3.6.3"
  }
 },
 "nbformat": 4,
 "nbformat_minor": 2
}
